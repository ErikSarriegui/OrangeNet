{
 "cells": [
  {
   "cell_type": "code",
   "execution_count": null,
   "metadata": {},
   "outputs": [],
   "source": [
    "import torch\n",
    "from torchvision import transforms\n",
    "from torch.cuda.amp import GradScaler\n",
    "from torchmetrics import Accuracy\n",
    "import os\n",
    "import engine, data_setup, model\n",
    "\n",
    "\n",
    "if __name__ == \"__main__\":\n",
    "    data_transforms = transforms.Compose([\n",
    "        transforms.Resize(size= (224, 224)),\n",
    "        transforms.ToTensor(),\n",
    "    ])\n",
    "\n",
    "    train_dataloader, test_dataloader, classes = data_setup.crear_dataloaders(\n",
    "        train_dir = \"data/dataset/train\",\n",
    "        test_dir= \"data/dataset/test\",\n",
    "        transforms = data_transforms,\n",
    "        batch_size = 32)\n",
    "\n",
    "    classificationModel = model.cargar_ResNet50(len(classes))\n",
    "\n",
    "    loss_fn = torch.nn.CrossEntropyLoss()\n",
    "\n",
    "    optimizer = torch.optim.Adam(\n",
    "        classificationModel.parameters(),\n",
    "        lr=0.001,\n",
    "        weight_decay=0.0001)\n",
    "\n",
    "    scaler = GradScaler()\n",
    "\n",
    "    accuracy_fn = Accuracy(task=\"multiclass\", num_classes=len(classes))\n",
    "\n",
    "    # Train the model\n",
    "    results = engine.train(\n",
    "        model = classificationModel,\n",
    "        train_dataloader = train_dataloader,\n",
    "        test_dataloader = test_dataloader,\n",
    "        loss_function = loss_fn,\n",
    "        optimizer = optimizer,\n",
    "        accuracy_fn = accuracy_fn,\n",
    "        scaler = scaler,\n",
    "        num_epochs = 1,\n",
    "        device = \"cuda\" if torch.cuda.is_available() else \"cpu\"\n",
    "    )\n",
    "\n",
    "    # Save the model\n",
    "    try:\n",
    "        listdir = os.listdir(\"models/\")\n",
    "        new_numeration = int(sorted(listdir)[-1][-4]) + 1\n",
    "        new_name = f\"OrangeNet_{new_numeration}.pt\"\n",
    "    except IndexError:\n",
    "        new_name = \"OrangeNet_0.pt\"\n",
    "\n",
    "    torch.save(classificationModel.state_dict(), f\"models/{new_name}\")"
   ]
  }
 ],
 "metadata": {
  "kernelspec": {
   "display_name": "Python 3",
   "language": "python",
   "name": "python3"
  },
  "language_info": {
   "codemirror_mode": {
    "name": "ipython",
    "version": 3
   },
   "file_extension": ".py",
   "mimetype": "text/x-python",
   "name": "python",
   "nbconvert_exporter": "python",
   "pygments_lexer": "ipython3",
   "version": "3.11.1"
  }
 },
 "nbformat": 4,
 "nbformat_minor": 2
}
