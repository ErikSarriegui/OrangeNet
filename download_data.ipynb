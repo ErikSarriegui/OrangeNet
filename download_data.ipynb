{
 "cells": [
  {
   "cell_type": "code",
   "execution_count": 1,
   "metadata": {},
   "outputs": [
    {
     "name": "stdout",
     "output_type": "stream",
     "text": [
      "Descomprimiendo el conjunto de datos de naranja...\n",
      "¡Proceso completado!\n"
     ]
    }
   ],
   "source": [
    "\"\"\"\n",
    "Este script sirve para instalar y descomprimir el dataset de Kaggle (jonathansilva2020/orange-diseases-dataset).\n",
    "Para poder descargar el dataset será necesario modificar el archivo .env con el username y la key de Kaggle para\n",
    "poder autenticarnos.\n",
    "\n",
    "Una vez añadidos tu username y key, únicamente debes ejecutar esta casilla. Los datos quedarán del siguiente\n",
    "modo (perfectos para cargar con ImageFolder de PyTorch):\n",
    "\n",
    "OrangeNet\n",
    "├── download_data.py\n",
    "├── otros_scripts...\n",
    "└── data\n",
    "    └── dataset\n",
    "        ├── train\n",
    "        │   ├── category1\n",
    "        │   │   ├── img1\n",
    "        │   │   ├── img2\n",
    "        │   │   └── ...\n",
    "        │   ├── category2\n",
    "        │   │   ├── img1\n",
    "        │   │   ├── img2\n",
    "        │   │   └── ...\n",
    "        │   └── more categories...\n",
    "        └── test\n",
    "            ├── category1\n",
    "            │   ├── img1\n",
    "            │   ├── img2\n",
    "            │   └── ...\n",
    "            ├── category2\n",
    "            │   ├── img1\n",
    "            │   ├── img2\n",
    "            │   └── ...\n",
    "            └── more categories...\n",
    "\n",
    "Crear arbol de dir - https://tree.nathanfriend.io/\n",
    "ImageFolder Pytorch - https://pytorch.org/vision/main/generated/torchvision.datasets.ImageFolder.html\n",
    "\"\"\"\n",
    "\n",
    "import os\n",
    "import zipfile\n",
    "from kaggle.api.kaggle_api_extended import KaggleApi\n",
    "\n",
    "api = KaggleApi()\n",
    "api.authenticate()\n",
    "api.dataset_download_files('jonathansilva2020/orange-diseases-dataset', unzip=False)\n",
    "\n",
    "with zipfile.ZipFile(\"orange-diseases-dataset.zip\", \"r\") as zip_ref:\n",
    "    print(\"Descomprimiendo el conjunto de datos de naranja...\")\n",
    "    zip_ref.extractall(\"data\")\n",
    "\n",
    "os.remove(\"orange-diseases-dataset.zip\")\n",
    "print(\"¡Proceso completado!\")"
   ]
  }
 ],
 "metadata": {
  "kernelspec": {
   "display_name": "Python 3",
   "language": "python",
   "name": "python3"
  },
  "language_info": {
   "codemirror_mode": {
    "name": "ipython",
    "version": 3
   },
   "file_extension": ".py",
   "mimetype": "text/x-python",
   "name": "python",
   "nbconvert_exporter": "python",
   "pygments_lexer": "ipython3",
   "version": "3.11.1"
  }
 },
 "nbformat": 4,
 "nbformat_minor": 2
}
