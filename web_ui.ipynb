{
 "cells": [
  {
   "cell_type": "code",
   "execution_count": null,
   "metadata": {},
   "outputs": [],
   "source": [
    "import gradio as gr\n",
    "import predictions\n",
    "import PIL\n",
    "\n",
    "def run(value : PIL.Image):\n",
    "    img = PIL.Image.fromarray(value)\n",
    "    pred = predictions.inference(img)\n",
    "    max_key = max(pred.items(), key=lambda x: x[1])[0]\n",
    "    return f\"This orange is {max_key}\"\n",
    "\n",
    "app = gr.Interface(fn=run, inputs=\"image\", outputs=\"textbox\")\n",
    "\n",
    "if __name__ == \"__main__\":\n",
    "    app.launch(debug=True, share=True)"
   ]
  }
 ],
 "metadata": {
  "kernelspec": {
   "display_name": "Python 3",
   "language": "python",
   "name": "python3"
  },
  "language_info": {
   "codemirror_mode": {
    "name": "ipython",
    "version": 3
   },
   "file_extension": ".py",
   "mimetype": "text/x-python",
   "name": "python",
   "nbconvert_exporter": "python",
   "pygments_lexer": "ipython3",
   "version": "3.11.1"
  }
 },
 "nbformat": 4,
 "nbformat_minor": 2
}
