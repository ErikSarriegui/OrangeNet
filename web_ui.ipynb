{
 "cells": [
  {
   "cell_type": "code",
   "execution_count": null,
   "metadata": {},
   "outputs": [],
   "source": [
    "\"\"\"\n",
    "Este cuaderno sirve para ejecutar de forma rápida un pipeline con una UI de gradio y realizar pruebas rápidas.\n",
    "\n",
    "IMPORTANTE -> Si no estás en Colab debes comentar las siguientes 3 líneas\n",
    "\"\"\"\n",
    "!git clone https://github.com/ErikSarriegui/OrangeNet.git\n",
    "!pip install -q gradio\n",
    "%cd OrangeNet\n",
    "\n",
    "import gradio as gr\n",
    "from pipeline import OrangePipeline\n",
    "import numpy as np\n",
    "\n",
    "def image_classification(\n",
    "        image : np.ndarray,\n",
    "        classificationpipe : OrangePipeline = OrangePipeline()\n",
    "        ) -> str:\n",
    "    \"\"\"\n",
    "    Este método se utiliza para llamar al pipeline desde la UI de gradio\n",
    "\n",
    "    Args:\n",
    "        image: Es la imagen a clasificar, por defecto gradio la pasa en np.ndarray.\n",
    "        classificationpipe: Es el pipeline del modelo de visión artificial.\n",
    "    \"\"\"\n",
    "    pred_probs_dict = classificationpipe.inference(image)\n",
    "    max_class_item = max(pred_probs_dict.items(), key=lambda x: x[1])[0]\n",
    "\n",
    "    return f\"This orange is {max_class_item}\"\n",
    "\n",
    "# Crear la app de gradio\n",
    "app = gr.Interface(\n",
    "    fn=image_classification,\n",
    "    inputs=\"image\",\n",
    "    outputs=\"textbox\"\n",
    "    )\n",
    "\n",
    "if __name__ == \"__main__\":\n",
    "    app.launch(debug=True, share=True)"
   ]
  }
 ],
 "metadata": {
  "kernelspec": {
   "display_name": "Python 3",
   "language": "python",
   "name": "python3"
  },
  "language_info": {
   "codemirror_mode": {
    "name": "ipython",
    "version": 3
   },
   "file_extension": ".py",
   "mimetype": "text/x-python",
   "name": "python",
   "nbconvert_exporter": "python",
   "pygments_lexer": "ipython3",
   "version": "3.11.1"
  }
 },
 "nbformat": 4,
 "nbformat_minor": 2
}
