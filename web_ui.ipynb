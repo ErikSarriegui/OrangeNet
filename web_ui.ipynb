{
 "cells": [
  {
   "cell_type": "code",
   "execution_count": null,
   "metadata": {},
   "outputs": [],
   "source": [
    "# Si no está en Colab debe comentar las siguientes 3 líneas\n",
    "!git clone https://github.com/ErikSarriegui/OrangeNet.git\n",
    "!pip install -q gradio\n",
    "%cd OrangeNet\n",
    "\n",
    "import gradio as gr\n",
    "from pipeline import OrangePipeline\n",
    "\n",
    "def run(value, pipe = OrangePipeline()):\n",
    "    pred = pipe.inference(value)\n",
    "    max_key = max(pred.items(), key=lambda x: x[1])[0]\n",
    "    return f\"This orange is {max_key}\"\n",
    "\n",
    "app = gr.Interface(fn=run, inputs=\"image\", outputs=\"textbox\")\n",
    "\n",
    "if __name__ == \"__main__\":\n",
    "    app.launch(debug=True, share=True)"
   ]
  },
  {
   "cell_type": "code",
   "execution_count": null,
   "metadata": {},
   "outputs": [],
   "source": []
  }
 ],
 "metadata": {
  "kernelspec": {
   "display_name": "Python 3",
   "language": "python",
   "name": "python3"
  },
  "language_info": {
   "codemirror_mode": {
    "name": "ipython",
    "version": 3
   },
   "file_extension": ".py",
   "mimetype": "text/x-python",
   "name": "python",
   "nbconvert_exporter": "python",
   "pygments_lexer": "ipython3",
   "version": "3.11.1"
  }
 },
 "nbformat": 4,
 "nbformat_minor": 2
}
